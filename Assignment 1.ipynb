{
  "cells": [
    {
      "cell_type": "markdown",
      "id": "bf7460ca",
      "metadata": {
        "id": "bf7460ca"
      },
      "source": [
        "# ENGI9874 Assignment 1\n",
        "\n",
        "Due on Wednesday, June 12th, 2024\n",
        "\n",
        "\n",
        "*Any two identical submitted assignments from different students will be considered as copies of each other.*\n",
        "\n",
        "Save your assignment as an `ipynb` file with a filename ”Group#.ipynb” [For instance, Group01, Group02, ...]. Then download it as a pdf file. Submit both files through the BrightSpace dropbox. Note: This is a group assignment which means in order to see the dropbox folder, you must join one of the groups in BrightSpace.\n",
        "Note that you must write the code for each question in the cell below it and then run the code before saving it.\n",
        "\n",
        "### Group #: 6"
      ]
    },
    {
      "cell_type": "markdown",
      "id": "33b6c420",
      "metadata": {
        "id": "33b6c420"
      },
      "source": [
        "# Problem 1\n",
        "Write a program that reads in principal amount, annual interest rate, and number of times the interest is compounded per year, and calculates the compound interest using the formula:\n",
        "\n",
        "$A = P \\left(1 + \\frac{r}{n}\\right)^{nt}$\n",
        "\n",
        "Where:\n",
        "- $P$ is the principal amount\n",
        "- $r$ is the annual interest rate (decimal)\n",
        "- $n$ is the number of times interest is compounded per year\n",
        "- $t$ is the time the money is invested for in years\n",
        "- $A$ is the amount of money accumulated after n years, including interest.\n",
        "\n",
        "Example:\n",
        "```python\n",
        "Enter principal amount: 1000\n",
        "Enter annual interest rate (as %): 5\n",
        "Enter number of times interest is compounded per year: 4\n",
        "Enter number of years: 6\n",
        "Accumulated value is 1340.10\n",
        "```\n",
        "\n"
      ]
    },
    {
      "cell_type": "code",
      "execution_count": 38,
      "id": "uabRfgprXzyB",
      "metadata": {
        "colab": {
          "base_uri": "https://localhost:8080/"
        },
        "id": "uabRfgprXzyB",
        "outputId": "4a26c90e-aeb0-44f5-82ad-63700ce19061"
      },
      "outputs": [
        {
          "ename": "ValueError",
          "evalue": "could not convert string to float: ''",
          "output_type": "error",
          "traceback": [
            "\u001b[1;31m---------------------------------------------------------------------------\u001b[0m",
            "\u001b[1;31mValueError\u001b[0m                                Traceback (most recent call last)",
            "Cell \u001b[1;32mIn[38], line 1\u001b[0m\n\u001b[1;32m----> 1\u001b[0m principal_amount \u001b[38;5;241m=\u001b[39m \u001b[38;5;28;43mfloat\u001b[39;49m\u001b[43m(\u001b[49m\u001b[38;5;28;43minput\u001b[39;49m\u001b[43m(\u001b[49m\u001b[38;5;124;43m\"\u001b[39;49m\u001b[38;5;124;43mEnter principal amount: \u001b[39;49m\u001b[38;5;124;43m\"\u001b[39;49m\u001b[43m)\u001b[49m\u001b[43m)\u001b[49m\n\u001b[0;32m      2\u001b[0m annual_interest_rate \u001b[38;5;241m=\u001b[39m \u001b[38;5;28mfloat\u001b[39m(\u001b[38;5;28minput\u001b[39m(\u001b[38;5;124m\"\u001b[39m\u001b[38;5;124mEnter annual interest rate (as \u001b[39m\u001b[38;5;124m%\u001b[39m\u001b[38;5;124m): \u001b[39m\u001b[38;5;124m\"\u001b[39m))\n\u001b[0;32m      3\u001b[0m annual_interest_rate_decimal \u001b[38;5;241m=\u001b[39m annual_interest_rate \u001b[38;5;241m/\u001b[39m \u001b[38;5;241m100\u001b[39m\n",
            "\u001b[1;31mValueError\u001b[0m: could not convert string to float: ''"
          ]
        }
      ],
      "source": [
        "principal_amount = float(input(\"Enter principal amount: \"))\n",
        "annual_interest_rate = float(input(\"Enter annual interest rate (as %): \"))\n",
        "annual_interest_rate_decimal = annual_interest_rate / 100\n",
        "number_of_times_compounded = int(input(\"Enter number of times interest is compounded per year: \"))\n",
        "number_of_years = int(input(\"Enter number of years: \"))\n",
        "\n",
        "accumulated_value = principal_amount * (1 + annual_interest_rate_decimal / number_of_times_compounded)**(number_of_times_compounded * number_of_years)\n",
        "\n",
        "print(\"Accumulated value is \"+ str(accumulated_value))"
      ]
    },
    {
      "cell_type": "markdown",
      "id": "692695e3",
      "metadata": {
        "id": "692695e3"
      },
      "source": []
    },
    {
      "cell_type": "markdown",
      "id": "2ceb3709",
      "metadata": {
        "id": "2ceb3709"
      },
      "source": [
        "\n",
        "### Problem 2\n",
        "Write a program that reads the following information and prints a bill statement:\n",
        "\n",
        "- Customer’s name (e.g., John Doe)\n",
        "- Number of units consumed (e.g., 350)\n",
        "- Rate per unit (e.g., 0.75)\n",
        "\n",
        "The program should calculate and print the total amount due with a sample run:\n",
        "\n",
        "Example:\n",
        "```python\n",
        "Enter customer's name: John Doe\n",
        "Enter number of units consumed: 350\n",
        "Enter rate per unit: 0.75\n",
        "Total amount due is 262.50\n",
        "```"
      ]
    },
    {
      "cell_type": "code",
      "execution_count": null,
      "id": "PeZd82hLXOnN",
      "metadata": {
        "colab": {
          "base_uri": "https://localhost:8080/"
        },
        "id": "PeZd82hLXOnN",
        "outputId": "2d61a949-96e7-483e-f30d-934aa631b6e3"
      },
      "outputs": [
        {
          "name": "stdout",
          "output_type": "stream",
          "text": [
            "Total amount due is 16.0\n"
          ]
        }
      ],
      "source": [
        "customer_name = input(\"Enter customer's name: \")\n",
        "units_consumed = int(input(\"Enter number of units consumed: \"))\n",
        "rate_per_unit = float(input(\"Enter rate per unit: \"))\n",
        "total_amount_due = units_consumed * rate_per_unit\n",
        "print(\"Total amount due is \" + str(total_amount_due))\n"
      ]
    },
    {
      "cell_type": "markdown",
      "id": "02b84a90",
      "metadata": {
        "id": "02b84a90"
      },
      "source": [
        "### Problem 3\n",
        "Write a function that calculates the factorial of a given non-negative integer. The function should use a recursive approach. Test your function for several values.\n",
        "\n",
        "Example:\n",
        "```python\n",
        "def factorial(n):\n",
        "### fill the body\n",
        "\n",
        "print(factorial(5))  # Output: 120\n",
        "```"
      ]
    },
    {
      "cell_type": "code",
      "execution_count": null,
      "id": "3457d826",
      "metadata": {
        "colab": {
          "base_uri": "https://localhost:8080/"
        },
        "id": "3457d826",
        "outputId": "cb577fec-f957-4b99-9658-d76cfb769715"
      },
      "outputs": [
        {
          "name": "stdout",
          "output_type": "stream",
          "text": [
            "120\n"
          ]
        }
      ],
      "source": [
        "def factorial(n):\n",
        "  if n == 0:\n",
        "    return 1\n",
        "  else:\n",
        "    return n * factorial(n-1)\n",
        "\n",
        "print(factorial(5))\n"
      ]
    },
    {
      "cell_type": "markdown",
      "id": "39fd5be9",
      "metadata": {
        "id": "39fd5be9"
      },
      "source": [
        "### Problem 4\n",
        "Define a function `is_prime(n)` that returns `True` if the integer `n` is a prime number, and `False` otherwise. Then, write a loop to test the function for all numbers from 1 to 20.\n",
        "\n",
        "Example:\n",
        "```python\n",
        "def is_prime(n):\n",
        "### fill the body\n",
        "\n",
        "for i in range(1, 21):\n",
        "    print(f\"{i}: {is_prime(i)}\")\n",
        "```"
      ]
    },
    {
      "cell_type": "code",
      "execution_count": null,
      "id": "3452b2e2",
      "metadata": {
        "colab": {
          "base_uri": "https://localhost:8080/"
        },
        "id": "3452b2e2",
        "outputId": "5e482aa8-732b-469d-c1a0-75fede7e271d"
      },
      "outputs": [
        {
          "name": "stdout",
          "output_type": "stream",
          "text": [
            "1: False\n",
            "2: True\n",
            "3: True\n",
            "4: False\n",
            "5: True\n",
            "6: False\n",
            "7: True\n",
            "8: False\n",
            "9: False\n",
            "10: False\n",
            "11: True\n",
            "12: False\n",
            "13: True\n",
            "14: False\n",
            "15: False\n",
            "16: False\n",
            "17: True\n",
            "18: False\n",
            "19: True\n",
            "20: False\n"
          ]
        }
      ],
      "source": [
        "def is_prime(n):\n",
        "  if n <= 1:\n",
        "    return False\n",
        "  for i in range(2, n):\n",
        "    if n % i == 0:\n",
        "      return False\n",
        "  return True\n",
        "\n",
        "for i in range(1, 21):\n",
        "  print(str(i) + \": \" + str(is_prime(i)))\n"
      ]
    },
    {
      "cell_type": "markdown",
      "id": "607ab474",
      "metadata": {
        "id": "607ab474"
      },
      "source": [
        "### Problem 5\n",
        "Write a function `sum_of_squares(n)` that calculates and returns the sum of the squares of the first `n` natural numbers. Test the function.\n",
        "\n",
        "Example:\n",
        "```python\n",
        "def sum_of_squares(n):\n",
        "### fill the body\n",
        "\n",
        "print(sum_of_squares(5))  # Output: 55\n",
        "```"
      ]
    },
    {
      "cell_type": "code",
      "execution_count": null,
      "id": "4501711e",
      "metadata": {
        "id": "4501711e"
      },
      "outputs": [
        {
          "name": "stdout",
          "output_type": "stream",
          "text": [
            "55\n"
          ]
        }
      ],
      "source": [
        "def sum_of_squares(n):\n",
        "    return sum(i ** 2 for i in range(1, n+1))\n",
        "\n",
        "print(sum_of_squares(5))"
      ]
    },
    {
      "cell_type": "markdown",
      "id": "80799c73",
      "metadata": {
        "id": "80799c73"
      },
      "source": [
        "### Problem 6\n",
        "Write a function that takes a string and returns `True` if it is a palindrome (ignoring spaces, punctuation, and case). Test the function with various inputs.\n",
        "\n",
        "Example:\n",
        "```python\n",
        "import string\n",
        "\n",
        "def is_palindrome(s):\n",
        "### fill the body\n",
        "\n",
        "print(is_palindrome(\"A man, a plan, a canal, Panama\"))  # Output: True\n",
        "```"
      ]
    },
    {
      "cell_type": "code",
      "execution_count": null,
      "id": "e4d5e17a",
      "metadata": {
        "id": "e4d5e17a"
      },
      "outputs": [
        {
          "name": "stdout",
          "output_type": "stream",
          "text": [
            "True\n"
          ]
        }
      ],
      "source": [
        "def is_palindrome(s):\n",
        "    clean_string = '' \n",
        "    for char in s:\n",
        "        if char.isalnum():  \n",
        "            clean_string += char.lower()  \n",
        "\n",
        "    reversed_string = clean_string[::-1]  \n",
        "    if clean_string == reversed_string:  \n",
        "        return True\n",
        "    else:\n",
        "        return False\n",
        "print(is_palindrome(\"A man, a plan, a canal, Panama\"))"
      ]
    },
    {
      "cell_type": "markdown",
      "id": "2d735954",
      "metadata": {
        "id": "2d735954"
      },
      "source": [
        "### Problem 7\n",
        "Write a program that reads integers until the user enters a negative number, then finds and prints the smallest positive number entered."
      ]
    },
    {
      "cell_type": "code",
      "execution_count": 39,
      "id": "159bcc47",
      "metadata": {
        "id": "159bcc47"
      },
      "outputs": [
        {
          "name": "stdout",
          "output_type": "stream",
          "text": [
            "Smallest positive number entered: 1\n"
          ]
        }
      ],
      "source": [
        "def get_smallest_positive_number():\n",
        "  smallest_positive = None\n",
        "  while True:\n",
        "    num = int(input(\"Enter an integer (or negative number to stop): \"))\n",
        "    if num < 0:\n",
        "      break\n",
        "    elif num > 0:\n",
        "      if smallest_positive is None or num < smallest_positive:\n",
        "        smallest_positive = num\n",
        "\n",
        "  return smallest_positive\n",
        "\n",
        "smallest_number = get_smallest_positive_number()\n",
        "\n",
        "if smallest_number is not None:\n",
        "  print(f\"Smallest positive number entered: {smallest_number}\")\n",
        "else:\n",
        "  print(\"No positive numbers entered\")"
      ]
    },
    {
      "cell_type": "markdown",
      "id": "435c5d32",
      "metadata": {
        "id": "435c5d32"
      },
      "source": [
        "### Problem 8\n",
        "Create a function `make_past_tense(verb)` which converts a given regular verb in its base form to its past tense form. Test your function with verbs such as \"work\", \"play\", and \"jump\".\n",
        "\n",
        "Example:\n",
        "```python\n",
        "def make_past_tense(verb):\n",
        "    ### fill the body\n",
        "\n",
        "print(make_past_tense(\"work\"))  # Output: worked\n",
        "```"
      ]
    },
    {
      "cell_type": "code",
      "execution_count": 35,
      "id": "548a82c2",
      "metadata": {
        "id": "548a82c2"
      },
      "outputs": [
        {
          "name": "stdout",
          "output_type": "stream",
          "text": [
            "worked\n",
            "played\n",
            "jumped\n",
            "danced\n"
          ]
        }
      ],
      "source": [
        "def make_past_tense(verb):\n",
        "    if verb.endswith(\"e\"):\n",
        "        return verb + \"d\"\n",
        "    else:\n",
        "        return verb + \"ed\"\n",
        "\n",
        "\n",
        "print(make_past_tense(\"work\"))  # Output: worked\n",
        "print(make_past_tense(\"play\"))  # Output: played\n",
        "print(make_past_tense(\"jump\"))  # Output: jumped\n",
        "print(make_past_tense(\"dance\"))  # Output: danced"
      ]
    },
    {
      "cell_type": "markdown",
      "id": "b3969bc1",
      "metadata": {
        "id": "b3969bc1"
      },
      "source": [
        "### Problem 9\n",
        "Write a function that takes a list of numbers and returns a new list containing only the even numbers from the original list. Test the function.\n",
        "\n",
        "Example:\n",
        "```python\n",
        "def filter_even_numbers(numbers):\n",
        "    ### fill the body\n",
        "\n",
        "print(filter_even_numbers([1, 2, 3, 4, 5, 6]))  # Output: [2, 4, 6]\n",
        "```\n"
      ]
    },
    {
      "cell_type": "code",
      "execution_count": 33,
      "id": "80169e92",
      "metadata": {
        "id": "80169e92"
      },
      "outputs": [
        {
          "name": "stdout",
          "output_type": "stream",
          "text": [
            "[2, 4, 6]\n"
          ]
        }
      ],
      "source": [
        "def filter_even_numbers(numbers):\n",
        "    return [number for number in numbers if number % 2 == 0]\n",
        "\n",
        "print(filter_even_numbers([1, 2, 3, 4, 5, 6]))  # Output: [2, 4, 6]"
      ]
    },
    {
      "cell_type": "markdown",
      "id": "18c8952a",
      "metadata": {
        "id": "18c8952a"
      },
      "source": [
        "### Problem 10\n",
        "Write a function that checks whether a given string is a valid email address. A valid email address should have an '@' symbol and a dot ('.') after the '@' symbol, with no spaces. Test the function.\n",
        "\n",
        "Example:\n",
        "```python\n",
        "def is_valid_email(email):\n",
        "### fill the body\n",
        "\n",
        "print(is_valid_email(\"example@example.com\"))  # Output: True\n",
        "```\n",
        "\n",
        "These problems are designed to test various aspects of Python programming, including arithmetic calculations, string manipulation, recursion, and working with lists and user input."
      ]
    },
    {
      "cell_type": "code",
      "execution_count": 32,
      "id": "bc289fda",
      "metadata": {
        "id": "bc289fda"
      },
      "outputs": [
        {
          "name": "stdout",
          "output_type": "stream",
          "text": [
            "True\n"
          ]
        }
      ],
      "source": [
        "import re\n",
        "def is_valid_email(email):\n",
        "  return bool(re.match(r\"[a-zA-Z0-9.!#$%&'*+/=?^_`{|}~-]+@[a-zA-Z0-9-]+(?:\\.[a-zA-Z0-9-]+)*$\", email))\n",
        "\n",
        "\n",
        "print(is_valid_email(\"example@example.com\"))  # Output: True"
      ]
    }
  ],
  "metadata": {
    "colab": {
      "provenance": []
    },
    "kernelspec": {
      "display_name": "Python 3 (ipykernel)",
      "language": "python",
      "name": "python3"
    },
    "language_info": {
      "codemirror_mode": {
        "name": "ipython",
        "version": 3
      },
      "file_extension": ".py",
      "mimetype": "text/x-python",
      "name": "python",
      "nbconvert_exporter": "python",
      "pygments_lexer": "ipython3",
      "version": "3.12.4"
    }
  },
  "nbformat": 4,
  "nbformat_minor": 5
}
